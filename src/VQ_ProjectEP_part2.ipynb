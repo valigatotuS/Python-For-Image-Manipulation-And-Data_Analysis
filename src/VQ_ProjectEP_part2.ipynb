{
 "cells": [
  {
   "cell_type": "markdown",
   "metadata": {},
   "source": [
    "# Engineering Programming - Project: part 2\n",
    "<quote> @valigatotuS </quote><br>2nd Bachelor Industrial Engineering\n",
    "___"
   ]
  },
  {
   "cell_type": "markdown",
   "metadata": {},
   "source": [
    "### Table of Contents\n",
    "* 2.0 [Introduction](#2.0-Introduction)\n",
    "* 2.1 [Visual Overview](#2.1-Visual-Overview)\n",
    "* 2.2 [Normalization](#2.2-Normalization)\n",
    "* 2.3 [Local Waves](#2.3-Local-Waves)"
   ]
  },
  {
   "cell_type": "markdown",
   "metadata": {},
   "source": [
    "## 2 Data Analysis with Pandas"
   ]
  },
  {
   "cell_type": "markdown",
   "metadata": {},
   "source": [
    "### 2.0 Introduction"
   ]
  },
  {
   "cell_type": "markdown",
   "metadata": {},
   "source": [
    "_“By visualizing information, we turn it into a landscape that you can explore with your eyes. A sort of information map. And when you’re lost in information, an information map is kind of useful.” – David McCandless_"
   ]
  },
  {
   "cell_type": "markdown",
   "metadata": {},
   "source": [
    "This assignement was given for gaining experience with the \"Pandas\" python-library and data-analysis. "
   ]
  },
  {
   "cell_type": "code",
   "execution_count": 4,
   "metadata": {},
   "outputs": [],
   "source": [
    "import pandas as pd"
   ]
  },
  {
   "cell_type": "markdown",
   "metadata": {},
   "source": [
    "We will go through some steps of data-analysis and so discover the Pandas-features."
   ]
  },
  {
   "cell_type": "markdown",
   "metadata": {},
   "source": [
    "### 2.1 Visual Overview"
   ]
  },
  {
   "cell_type": "markdown",
   "metadata": {},
   "source": [
    ">Plotting the total number of confirmed cases, the total number of hospitalisations, and the total number of deaths by date on one line graph.(1)"
   ]
  },
  {
   "cell_type": "markdown",
   "metadata": {},
   "source": [
    "Storing the csv's into variabels as a dataframe with `pd.read_csv()`:"
   ]
  },
  {
   "cell_type": "code",
   "execution_count": 106,
   "metadata": {},
   "outputs": [],
   "source": [
    "#storing data of csv in variabels into dataframes:\n",
    "cases_csv = pd.read_csv('./../files/data/COVID19BE_CASES_AGESEX.csv')\n",
    "hosp_csv = pd.read_csv('./../files/data/COVID19BE_HOSP.csv')\n",
    "mort_csv = pd.read_csv('./../files/data/COVID19BE_MORT.csv') "
   ]
  },
  {
   "cell_type": "markdown",
   "metadata": {},
   "source": [
    "For this exercices we will need to plot the total numbers of confirmed cases, hospitalisations   and deaths by date as a line-plot.                                                                   \n",
    "\n",
    "\n",
    "Procedure:\n",
    "1. __Getting usefull data__: slicing usefull data out of the dataframes\n",
    "    - slicing with columnnames: `a_csv[[\"neededcol1, neededcol2\"]]`\n",
    "2. __Arranging & Merging those data__: modyfying & grouping data (by date/age/...)\n",
    "    - renaming df columnnames: `a_df.rename(columns = {'old_col':'new_col'})`\n",
    "    - grouping df's by columnname: `a_df.groupby(\"a_columnname\").operation()`\n",
    "    - merging df's: `a_df.merge(b_df, on = \"a_columnname\", how = \"left/right\")`\n",
    "3. __Plotting__ : plotting data\n",
    "    - plotting df's: `a_df.plot(title = \"a_title\", kind = \"a_kind\", rot = ..., ...)`"
   ]
  },
  {
   "cell_type": "code",
   "execution_count": 104,
   "metadata": {},
   "outputs": [],
   "source": [
    "# slicing needed data by their columnnames \n",
    "cases = cases_csv[[\"DATE\", \"CASES\"]] \n",
    "hospi = hosp_csv[[\"DATE\", \"NEW_IN\"]].rename(columns = {'NEW_IN':'HOSPITALISATIONS'}) #renaming the hospitalisations column\n",
    "deaths = mort_csv[[\"DATE\", \"DEATHS\"]]"
   ]
  },
  {
   "cell_type": "code",
   "execution_count": 7,
   "metadata": {},
   "outputs": [],
   "source": [
    "# grouping data by \"DATE\"\n",
    "cases = cases.groupby('DATE').sum()\n",
    "hospi = hospi.groupby('DATE').sum()\n",
    "deaths = deaths.groupby('DATE').sum()"
   ]
  },
  {
   "cell_type": "code",
   "execution_count": 8,
   "metadata": {},
   "outputs": [],
   "source": [
    "# getting cumulative numbers\n",
    "cum_cases = cases.cumsum()\n",
    "cum_hospi = hospi.cumsum()\n",
    "cum_deaths = deaths.cumsum()"
   ]
  },
  {
   "cell_type": "code",
   "execution_count": 9,
   "metadata": {},
   "outputs": [],
   "source": [
    "# merging dataframes by date\n",
    "df_COV19 = cum_cases.merge(cum_hospi, on = 'DATE', how = \"left\").merge(cum_deaths, on = 'DATE', how = \"left\")"
   ]
  },
  {
   "cell_type": "code",
   "execution_count": 111,
   "metadata": {},
   "outputs": [
    {
     "data": {
      "text/html": [
       "<div>\n",
       "<style scoped>\n",
       "    .dataframe tbody tr th:only-of-type {\n",
       "        vertical-align: middle;\n",
       "    }\n",
       "\n",
       "    .dataframe tbody tr th {\n",
       "        vertical-align: top;\n",
       "    }\n",
       "\n",
       "    .dataframe thead th {\n",
       "        text-align: right;\n",
       "    }\n",
       "</style>\n",
       "<table border=\"1\" class=\"dataframe\">\n",
       "  <thead>\n",
       "    <tr style=\"text-align: right;\">\n",
       "      <th></th>\n",
       "      <th>CASES</th>\n",
       "      <th>HOSPITALISATIONS</th>\n",
       "      <th>DEATHS</th>\n",
       "    </tr>\n",
       "    <tr>\n",
       "      <th>DATE</th>\n",
       "      <th></th>\n",
       "      <th></th>\n",
       "      <th></th>\n",
       "    </tr>\n",
       "  </thead>\n",
       "  <tbody>\n",
       "    <tr>\n",
       "      <th>2020-03-01</th>\n",
       "      <td>19</td>\n",
       "      <td>NaN</td>\n",
       "      <td>NaN</td>\n",
       "    </tr>\n",
       "    <tr>\n",
       "      <th>2020-03-02</th>\n",
       "      <td>38</td>\n",
       "      <td>NaN</td>\n",
       "      <td>NaN</td>\n",
       "    </tr>\n",
       "    <tr>\n",
       "      <th>2020-03-03</th>\n",
       "      <td>72</td>\n",
       "      <td>NaN</td>\n",
       "      <td>NaN</td>\n",
       "    </tr>\n",
       "    <tr>\n",
       "      <th>2020-03-04</th>\n",
       "      <td>125</td>\n",
       "      <td>NaN</td>\n",
       "      <td>NaN</td>\n",
       "    </tr>\n",
       "    <tr>\n",
       "      <th>2020-03-05</th>\n",
       "      <td>206</td>\n",
       "      <td>NaN</td>\n",
       "      <td>NaN</td>\n",
       "    </tr>\n",
       "    <tr>\n",
       "      <th>...</th>\n",
       "      <td>...</td>\n",
       "      <td>...</td>\n",
       "      <td>...</td>\n",
       "    </tr>\n",
       "    <tr>\n",
       "      <th>2020-11-16</th>\n",
       "      <td>544331</td>\n",
       "      <td>38853.0</td>\n",
       "      <td>14924.0</td>\n",
       "    </tr>\n",
       "    <tr>\n",
       "      <th>2020-11-17</th>\n",
       "      <td>548984</td>\n",
       "      <td>39225.0</td>\n",
       "      <td>15069.0</td>\n",
       "    </tr>\n",
       "    <tr>\n",
       "      <th>2020-11-18</th>\n",
       "      <td>552240</td>\n",
       "      <td>39581.0</td>\n",
       "      <td>15213.0</td>\n",
       "    </tr>\n",
       "    <tr>\n",
       "      <th>2020-11-19</th>\n",
       "      <td>553581</td>\n",
       "      <td>39930.0</td>\n",
       "      <td>15332.0</td>\n",
       "    </tr>\n",
       "    <tr>\n",
       "      <th>2020-11-20</th>\n",
       "      <td>553584</td>\n",
       "      <td>40243.0</td>\n",
       "      <td>15352.0</td>\n",
       "    </tr>\n",
       "  </tbody>\n",
       "</table>\n",
       "<p>265 rows × 3 columns</p>\n",
       "</div>"
      ],
      "text/plain": [
       "             CASES  HOSPITALISATIONS   DEATHS\n",
       "DATE                                         \n",
       "2020-03-01      19               NaN      NaN\n",
       "2020-03-02      38               NaN      NaN\n",
       "2020-03-03      72               NaN      NaN\n",
       "2020-03-04     125               NaN      NaN\n",
       "2020-03-05     206               NaN      NaN\n",
       "...            ...               ...      ...\n",
       "2020-11-16  544331           38853.0  14924.0\n",
       "2020-11-17  548984           39225.0  15069.0\n",
       "2020-11-18  552240           39581.0  15213.0\n",
       "2020-11-19  553581           39930.0  15332.0\n",
       "2020-11-20  553584           40243.0  15352.0\n",
       "\n",
       "[265 rows x 3 columns]"
      ]
     },
     "execution_count": 111,
     "metadata": {},
     "output_type": "execute_result"
    }
   ],
   "source": [
    "df_COV19"
   ]
  },
  {
   "cell_type": "code",
   "execution_count": 110,
   "metadata": {},
   "outputs": [],
   "source": [
    "# filling missing values with previous one (filling the gaps)\n",
    "df_COV19 = df_COV19.fillna(method = \"ffill\") "
   ]
  },
  {
   "cell_type": "code",
   "execution_count": 12,
   "metadata": {},
   "outputs": [],
   "source": [
    "months = [\"Feb\",\"Mar\",\"Apr\",\"Jun\",\"Jul\",\"Sep\",\"Nov\"]"
   ]
  },
  {
   "cell_type": "code",
   "execution_count": 13,
   "metadata": {},
   "outputs": [
    {
     "data": {
      "text/plain": [
       "[Text(0, 0, 'Feb'),\n",
       " Text(0, 0, 'Mar'),\n",
       " Text(0, 0, 'Apr'),\n",
       " Text(0, 0, 'Jun'),\n",
       " Text(0, 0, 'Jul'),\n",
       " Text(0, 0, 'Sep'),\n",
       " Text(0, 0, 'Nov')]"
      ]
     },
     "execution_count": 13,
     "metadata": {},
     "output_type": "execute_result"
    },
    {
     "data": {
      "image/png": "[encoded data removed]",
      "text/plain": [
       "<Figure size 432x288 with 1 Axes>"
      ]
     },
     "metadata": {
      "needs_background": "light"
     },
     "output_type": "display_data"
    }
   ],
   "source": [
    "# plotting COV19 dataframe\n",
    "df_COV19.plot(title = \"COVID-19 info-graphic(2020)\").set_xticklabels(months)"
   ]
  },
  {
   "cell_type": "markdown",
   "metadata": {},
   "source": [
    "<font color = \"gray\">\n",
    "We can remark peaks during April and October-November.\n",
    "</font>"
   ]
  },
  {
   "cell_type": "markdown",
   "metadata": {},
   "source": [
    ">Plotting these statistics by age on a histogram.(2)"
   ]
  },
  {
   "cell_type": "code",
   "execution_count": 14,
   "metadata": {},
   "outputs": [],
   "source": [
    "#Slicing needed data by their columnnames \n",
    "age_cases = cases_csv[[\"AGEGROUP\", \"CASES\"]] \n",
    "age_deaths = mort_csv[[\"AGEGROUP\", \"DEATHS\"]]"
   ]
  },
  {
   "cell_type": "code",
   "execution_count": 15,
   "metadata": {},
   "outputs": [],
   "source": [
    "#grouping data by \"Age-Group\"\n",
    "age_cases = age_cases.groupby('AGEGROUP').sum()\n",
    "age_deaths = age_deaths.groupby('AGEGROUP').sum()"
   ]
  },
  {
   "cell_type": "code",
   "execution_count": 16,
   "metadata": {},
   "outputs": [
    {
     "data": {
      "text/plain": [
       "<matplotlib.axes._subplots.AxesSubplot at 0x2826168cee0>"
      ]
     },
     "execution_count": 16,
     "metadata": {},
     "output_type": "execute_result"
    },
    {
     "data": {
      "image/png": "[encoded data removed]",
      "text/plain": [
       "<Figure size 432x288 with 1 Axes>"
      ]
     },
     "metadata": {
      "needs_background": "light"
     },
     "output_type": "display_data"
    },
    {
     "data": {
      "image/png": "[encoded data removed]",
      "text/plain": [
       "<Figure size 432x288 with 1 Axes>"
      ]
     },
     "metadata": {
      "needs_background": "light"
     },
     "output_type": "display_data"
    }
   ],
   "source": [
    "#plotting cases & deaths by age on a histogram\n",
    "age_cases.plot(kind = \"bar\", rot = 15, title = \"COVID-19 cases by agegroup(2020)\")\n",
    "age_deaths.plot(kind = \"bar\", rot = 15, color = \"red\", title = \"COVID-19 deaths by agegroup(2020)\")"
   ]
  },
  {
   "cell_type": "markdown",
   "metadata": {},
   "source": [
    "<font color = \"gray\">\n",
    "We can deduce that there are a lot (> 80.000) of cases amoung young-people (20-59) but not many (< 20.000) amoung youngest (0-9) and oldest (90+) people .<br>\n",
    "By agegroup we can deduce that the number of deaths increase with age.\n",
    "</font>"
   ]
  },
  {
   "cell_type": "markdown",
   "metadata": {},
   "source": [
    ">Calculating and plotting the ratio of mortality to confirmed infections.(3)"
   ]
  },
  {
   "cell_type": "code",
   "execution_count": 17,
   "metadata": {},
   "outputs": [],
   "source": [
    "#calculating mortality ratio by date\n",
    "MortRatio = pd.DataFrame({\"Mortality Ratio\": (deaths[\"DEATHS\"] / cases[\"CASES\"])})"
   ]
  },
  {
   "cell_type": "markdown",
   "metadata": {},
   "source": [
    "Last element is causing a giant unjustified peak so we need to remove it"
   ]
  },
  {
   "cell_type": "markdown",
   "metadata": {},
   "source": [
    "Choosing how to remove last element by execution-time `%timeit`\n",
    "1. `MortRatio.drop(MortRatio.tail(1).index, inplace=True)` #427 µs\n",
    "2. `MortRatio[:-1]` #73 µs\n",
    "\n",
    "=>second method is ~6x faster"
   ]
  },
  {
   "cell_type": "code",
   "execution_count": 18,
   "metadata": {},
   "outputs": [],
   "source": [
    "# removing last element and filling gaps\n",
    "MortRatio = MortRatio[:-1].fillna(method = \"ffill\") "
   ]
  },
  {
   "cell_type": "code",
   "execution_count": 19,
   "metadata": {},
   "outputs": [
    {
     "data": {
      "text/plain": [
       "[Text(0, 0, 'Feb'),\n",
       " Text(0, 0, 'Mar'),\n",
       " Text(0, 0, 'Apr'),\n",
       " Text(0, 0, 'Jun'),\n",
       " Text(0, 0, 'Jul'),\n",
       " Text(0, 0, 'Sep'),\n",
       " Text(0, 0, 'Nov')]"
      ]
     },
     "execution_count": 19,
     "metadata": {},
     "output_type": "execute_result"
    },
    {
     "data": {
      "image/png": "[encoded data removed]",
      "text/plain": [
       "<Figure size 432x288 with 1 Axes>"
      ]
     },
     "metadata": {
      "needs_background": "light"
     },
     "output_type": "display_data"
    }
   ],
   "source": [
    "#plotting mortality ratio\n",
    "MortRatio.plot(title = \"Mortality ratio 2020\").set_xticklabels(months)"
   ]
  },
  {
   "cell_type": "markdown",
   "metadata": {},
   "source": [
    "<font color = \"gray\">\n",
    "From this graph we can learn that the mortality-ratio-peaks were specially high from April to June and decreased drasically after.  \n",
    "</font>"
   ]
  },
  {
   "cell_type": "markdown",
   "metadata": {},
   "source": [
    "### 2.2 Normalization"
   ]
  },
  {
   "cell_type": "markdown",
   "metadata": {},
   "source": [
    ">Plotting the ratio of confirmed cases to tests conducted.(1)"
   ]
  },
  {
   "cell_type": "code",
   "execution_count": 20,
   "metadata": {},
   "outputs": [],
   "source": [
    "test_csv = pd.read_csv('data/COVID19BE_tests.csv')"
   ]
  },
  {
   "cell_type": "code",
   "execution_count": 21,
   "metadata": {},
   "outputs": [],
   "source": [
    "test_df = test_csv[[\"DATE\",\"TESTS_ALL\",\"TESTS_ALL_POS\"]].groupby(\"DATE\").sum()"
   ]
  },
  {
   "cell_type": "code",
   "execution_count": 22,
   "metadata": {},
   "outputs": [],
   "source": [
    "#calculating ratio of confirmed cases to tests conducted\n",
    "test_df[\"RATIO_ALL2POS\"] = test_df[\"TESTS_ALL_POS\"] / test_df[\"TESTS_ALL\"]"
   ]
  },
  {
   "cell_type": "code",
   "execution_count": 23,
   "metadata": {},
   "outputs": [
    {
     "data": {
      "text/plain": [
       "[Text(0, 0, 'Feb'),\n",
       " Text(0, 0, 'Mar'),\n",
       " Text(0, 0, 'Apr'),\n",
       " Text(0, 0, 'Jun'),\n",
       " Text(0, 0, 'Jul'),\n",
       " Text(0, 0, 'Sep'),\n",
       " Text(0, 0, 'Nov')]"
      ]
     },
     "execution_count": 23,
     "metadata": {},
     "output_type": "execute_result"
    },
    {
     "data": {
      "image/png": "[encoded data removed]",
      "text/plain": [
       "<Figure size 432x288 with 1 Axes>"
      ]
     },
     "metadata": {
      "needs_background": "light"
     },
     "output_type": "display_data"
    }
   ],
   "source": [
    "#plotting ratio \n",
    "pd.DataFrame(test_df[\"RATIO_ALL2POS\"]).plot(title = \"Ratio of confirmed cases to tests conducted\").set_xticklabels(months) "
   ]
  },
  {
   "cell_type": "markdown",
   "metadata": {},
   "source": [
    "<font color = \"gray\">\n",
    "We can deduce that there were a lot of positives tests during March-April and October-November.\n",
    "</font>"
   ]
  },
  {
   "cell_type": "markdown",
   "metadata": {},
   "source": [
    "<font color = \"gray\">\n",
    "Comparing this graph with 2.1 we can say that both have peaks at the same months. We can observe how the quarantine / deconfinement drastically influenced those graphs.                                                                         (first quarantine  : 17/03-19/04 ; second quarantine : 02/11-...)\n",
    "</font>"
   ]
  },
  {
   "cell_type": "markdown",
   "metadata": {},
   "source": [
    "### 2.3 Local Waves"
   ]
  },
  {
   "cell_type": "markdown",
   "metadata": {},
   "source": [
    ">Function that returns for each province the total number of infections in the 14 days leading up to a given date.(1)"
   ]
  },
  {
   "cell_type": "code",
   "execution_count": 24,
   "metadata": {},
   "outputs": [],
   "source": [
    "def CasesOfPrev2Weeks_Provinces(df: pd.DataFrame, date: str) -> dict:\n",
    "    \"\"\"\n",
    "    Returns for each province the total number of infections in the 14 days leading up to a given date.\n",
    "    \"\"\"\n",
    "    result = {}\n",
    "    provinces = pd.unique(df.PROVINCE.dropna()).tolist() # removing duplicates\n",
    "    validDays = (pd.date_range(start = pd.Timestamp(date) - pd.offsets.Week(2), end = date)).astype(str) #list of days\n",
    "    \n",
    "    for province in provinces:\n",
    "        infections = df.loc[(df.PROVINCE == province) & (df.DATE.isin(validDays))].CASES.sum() # number of infection in province during 14-day period\n",
    "        result[province] = infections\n",
    "    \n",
    "    return result"
   ]
  },
  {
   "cell_type": "markdown",
   "metadata": {},
   "source": [
    "Example:"
   ]
  },
  {
   "cell_type": "code",
   "execution_count": 25,
   "metadata": {},
   "outputs": [
    {
     "data": {
      "text/plain": [
       "{'Antwerpen': 220,\n",
       " 'Brussels': 216,\n",
       " 'Liège': 197,\n",
       " 'Limburg': 190,\n",
       " 'OostVlaanderen': 178,\n",
       " 'VlaamsBrabant': 232,\n",
       " 'BrabantWallon': 55,\n",
       " 'WestVlaanderen': 151,\n",
       " 'Hainaut': 206,\n",
       " 'Namur': 32,\n",
       " 'Luxembourg': 18}"
      ]
     },
     "execution_count": 25,
     "metadata": {},
     "output_type": "execute_result"
    }
   ],
   "source": [
    "# numbers of infections per province in 14-days leading up to given date \n",
    "date_x = \"2020-03-15\"\n",
    "CasesOfPrev2Weeks_Provinces(cases_csv, date_x)"
   ]
  },
  {
   "cell_type": "markdown",
   "metadata": {},
   "source": [
    ">Using this function to determine for each day which\n",
    "province was having the most infections relative to their population, in the 14\n",
    "days leading up to day x. Using the data in table1 to get the population.(2)"
   ]
  },
  {
   "cell_type": "code",
   "execution_count": 26,
   "metadata": {},
   "outputs": [],
   "source": [
    "aDict = CasesOfPrev2Weeks_Provinces(cases_csv, date_x)"
   ]
  },
  {
   "cell_type": "code",
   "execution_count": 27,
   "metadata": {},
   "outputs": [],
   "source": [
    "table1 = {\"Brussels\": 1_218_255,\n",
    "          \"Antwerpen\": 1_869_730,\n",
    "          \"Limburg\": 877_370,\n",
    "          \"OostVlaanderen\": 1_525_255,\n",
    "          \"VlaamsBrabant\": 1_155_843,\n",
    "          \"WestVlaanderen\": 1_200_945,\n",
    "          \"BrabantWallon\": 406_019,\n",
    "          \"Hainaut\": 1_346_840,\n",
    "          \"Liège\": 1_109_800,\n",
    "          \"Luxembourg\": 286_752,\n",
    "          \"Namur\": 495_832}"
   ]
  },
  {
   "cell_type": "code",
   "execution_count": 101,
   "metadata": {},
   "outputs": [
    {
     "name": "stdout",
     "output_type": "stream",
     "text": [
      "Limburg had the most infections in the 14 days leading up to 2020-03-15.\n"
     ]
    }
   ],
   "source": [
    "tmp_dict = {}\n",
    "\n",
    "for key in table1.keys():\n",
    "    tmp_dict[key] = aDict[key] / table1[key] # normalizing the dict with table1 by key \n",
    "    \n",
    "print(f\"{max(new, key = new.get)} had the most infections in the 14 days leading up to {date_x}.\")"
   ]
  },
  {
   "cell_type": "markdown",
   "metadata": {},
   "source": [
    ">The pie chart will show how often each province was leading the number of infections relative to their population for 14-day periods, during the whole duration of the pandemic in Belgium."
   ]
  },
  {
   "cell_type": "code",
   "execution_count": 114,
   "metadata": {},
   "outputs": [],
   "source": [
    "tmp_dict = {}\n",
    "dates = pd.unique(cases_csv.DATE.dropna()).tolist() # removing duplicates\n",
    "provinces = pd.unique(cases_csv.PROVINCE.dropna()).tolist() \n",
    "points = {\"Brussels\": 0,    # number of leading-periods (score-holder)\n",
    "          \"Antwerpen\": 0,\n",
    "          \"Limburg\": 0,\n",
    "          \"OostVlaanderen\": 0,\n",
    "          \"VlaamsBrabant\": 0,\n",
    "          \"WestVlaanderen\": 0,\n",
    "          \"BrabantWallon\": 0,\n",
    "          \"Hainaut\": 0,\n",
    "          \"Liège\": 0,\n",
    "          \"Luxembourg\": 0,\n",
    "          \"Namur\": 0}\n",
    "\n",
    "for date in dates:\n",
    "    stats = CasesOfPrev2Weeks_Provinces(cases_csv, date) # getting 14-day stats\n",
    "    for key in table1.keys(): \n",
    "        tmp_dict[key] = stats[key] / table1[key]         # normalizing stats by population\n",
    "    k = max(tmp_dict, key = tmp_dict.get) # getting leading province related to numbers of infections during 14-day period\n",
    "    points[k] += 1 # updating scoreboard"
   ]
  },
  {
   "cell_type": "code",
   "execution_count": 115,
   "metadata": {},
   "outputs": [
    {
     "data": {
      "text/plain": [
       "Text(0, 0.5, '')"
      ]
     },
     "execution_count": 115,
     "metadata": {},
     "output_type": "execute_result"
    },
    {
     "data": {
      "image/png": "[encoded data removed]",
      "text/plain": [
       "<Figure size 432x288 with 1 Axes>"
      ]
     },
     "metadata": {},
     "output_type": "display_data"
    }
   ],
   "source": [
    "palette = [\"coral\", \"brown\", \"green\", \"darkorange\", \"greenyellow\", \"orange\", \"cyan\", \"purple\", \"magenta\", \"gray\", \"lightblue\"]\n",
    "pie_df = pd.DataFrame.from_dict(points, orient = \"index\", columns = [\"points\"]) # converting the dict to a dataframe\n",
    "\n",
    "pie_df.plot(title = \"Local Waves: Belgium\",\n",
    "            y = \"points\",              # defining the axis \n",
    "            legend = False,            # hiding the legend\n",
    "            colors = palette,          # defining the colors of the pie-chart\n",
    "            startangle = 220,          # rotating pie-chart 220°\n",
    "            kind = \"pie\",  \n",
    "            autopct=lambda p: '{:.1f}%'.format(p) if p > 0 else '' # showing the percentages of each part (>0)\n",
    "            ).yaxis.set_label_text(\"\") # hiding y-axis"
   ]
  },
  {
   "cell_type": "markdown",
   "metadata": {},
   "source": [
    "<font color = \"brown\">\n",
    "Conclusion:<br><br>\n",
    "Raw data can be hard to interpret, data visualization can in this case be very helpful for data cleaning, exploring data structure, detecting outliers and unusual groups, identifying trends and clusters, spotting local patterns and presenting results. Graphics reveal data features that statistics and models may miss: unusual distributions of data, local patterns, gaps, missing values, implicit boundaries, outliers,... \n",
    "After plotting the data we can read them more easily, data become visual and understandable.\n",
    "</font>"
   ]
  },
  {
   "cell_type": "markdown",
   "metadata": {},
   "source": [
    "References:\n",
    "* https://pandas.pydata.org/pandas-docs/stable/user_guide/visualization.html\n",
    "* https://realpython.com/pandas-plot-python/\n",
    "* https://regenerativetoday.com/a-complete-cheat-sheet-for-data-visualization-in-pandas/\n",
    "* https://blog.edugrad.com/data-visualization-in-python-numpy-pandas-matplotlib-and-seaborn/\n",
    "* https://hdsr.mitpress.mit.edu/pub/zok97i7p/release/2"
   ]
  }
 ],
 "metadata": {
  "kernelspec": {
   "display_name": "Python 3",
   "language": "python",
   "name": "python3"
  },
  "language_info": {
   "codemirror_mode": {
    "name": "ipython",
    "version": 3
   },
   "file_extension": ".py",
   "mimetype": "text/x-python",
   "name": "python",
   "nbconvert_exporter": "python",
   "pygments_lexer": "ipython3",
   "version": "3.8.3"
  }
 },
 "nbformat": 4,
 "nbformat_minor": 4
}
